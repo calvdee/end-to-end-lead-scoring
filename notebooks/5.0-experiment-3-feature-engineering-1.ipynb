{
 "cells": [
  {
   "cell_type": "markdown",
   "metadata": {},
   "source": [
    "Before we try and use more complex models and engage in hyperparameter tuning, it would be worthwhile for us to understand where our optimized model is making errors, w.r.t. associated feature values. "
   ]
  },
  {
   "cell_type": "code",
   "execution_count": 85,
   "metadata": {},
   "outputs": [
    {
     "name": "stdout",
     "output_type": "stream",
     "text": [
      "The autoreload extension is already loaded. To reload it, use:\n",
      "  %reload_ext autoreload\n"
     ]
    }
   ],
   "source": [
    "%load_ext autoreload\n",
    "%autoreload 2\n",
    "\n",
    "from utils import code"
   ]
  },
  {
   "cell_type": "code",
   "execution_count": 129,
   "metadata": {},
   "outputs": [],
   "source": [
    "import pandas as pd\n",
    "import numpy as np\n",
    "import scikitplot as skplt\n",
    "import matplotlib.pyplot as plt\n",
    "\n",
    "from sklearn.metrics import classification_report, confusion_matrix\n",
    "from sklearn.model_selection import train_test_split\n",
    "from sklearn.ensemble import RandomForestClassifier\n",
    "\n",
    "from support.model import Model\n",
    "from support.datasets import get_data\n",
    "from support.experiments import get_auc_scorer\n",
    "from support.experiments.experiment_1 import CATEGORICAL_FEATURES, baseline_model_predictions\n",
    "from support.parameters import P_TARGETED, AVG_COST, AVG_REVENUE\n",
    "\n",
    "%matplotlib inline"
   ]
  },
  {
   "cell_type": "markdown",
   "metadata": {},
   "source": [
    "Load the best performing model"
   ]
  },
  {
   "cell_type": "code",
   "execution_count": 87,
   "metadata": {},
   "outputs": [],
   "source": [
    "tuned_model = Model.load('../models/experiment-1-model.pkl')\n",
    "model = Model(tuned_model.name, tuned_model.model, tuned_model.pipeline)"
   ]
  },
  {
   "cell_type": "markdown",
   "metadata": {},
   "source": [
    "Load the training set and test sets"
   ]
  },
  {
   "cell_type": "code",
   "execution_count": 88,
   "metadata": {},
   "outputs": [],
   "source": [
    "X, y = get_data('../data/train.csv')\n",
    "X_test, y_test = get_data('../data/test.csv')"
   ]
  },
  {
   "cell_type": "code",
   "execution_count": 89,
   "metadata": {},
   "outputs": [
    {
     "name": "stdout",
     "output_type": "stream",
     "text": [
      "Number of training instances: 32,950\n"
     ]
    }
   ],
   "source": [
    "print('Number of training instances: {:,}'.format(len(X)))"
   ]
  },
  {
   "cell_type": "markdown",
   "metadata": {},
   "source": [
    "Create a validation set"
   ]
  },
  {
   "cell_type": "code",
   "execution_count": 90,
   "metadata": {},
   "outputs": [],
   "source": [
    "X_train, X_val, y_train, y_val = train_test_split(X, y, test_size=.2, stratify=y, random_state=1)"
   ]
  },
  {
   "cell_type": "code",
   "execution_count": 91,
   "metadata": {},
   "outputs": [
    {
     "name": "stdout",
     "output_type": "stream",
     "text": [
      "Number of training instances: 26,360\n",
      "Number of validation instances: 6,590\n"
     ]
    }
   ],
   "source": [
    "print('Number of training instances: {:,}'.format(len(X_train)))\n",
    "print('Number of validation instances: {:,}'.format(len(X_val)))"
   ]
  },
  {
   "cell_type": "markdown",
   "metadata": {},
   "source": [
    "These datasets are large enough to give us good performance and an accurate estimate of generalization."
   ]
  },
  {
   "cell_type": "markdown",
   "metadata": {},
   "source": [
    "Compute the baseline"
   ]
  },
  {
   "cell_type": "code",
   "execution_count": 92,
   "metadata": {},
   "outputs": [
    {
     "data": {
      "text/plain": [
       "<support.model.Model at 0x1a1fa0b6a0>"
      ]
     },
     "execution_count": 92,
     "metadata": {},
     "output_type": "execute_result"
    }
   ],
   "source": [
    "model.train(X_train, y_train)"
   ]
  },
  {
   "cell_type": "code",
   "execution_count": 93,
   "metadata": {},
   "outputs": [
    {
     "data": {
      "text/plain": [
       "0.6800129332118983"
      ]
     },
     "execution_count": 93,
     "metadata": {},
     "output_type": "execute_result"
    }
   ],
   "source": [
    "scorer = get_auc_scorer()\n",
    "model.score(X_val, y_val, scorer)"
   ]
  },
  {
   "cell_type": "markdown",
   "metadata": {},
   "source": [
    "This estimate is slightly optimistic since we scored .66 AUC using our held-out test set. We may be overfitting due to high cardinality in some of the variables, as we saw in the exploratory analysis:\n",
    "\n",
    "* job\n",
    "* education\n",
    "* month\n",
    "\n",
    "Let's try and collapse some of the rarer values and see if that impacts our model. First we need to update the training set with the collapsed values then we need to re-split into training and validation."
   ]
  },
  {
   "cell_type": "code",
   "execution_count": 94,
   "metadata": {},
   "outputs": [
    {
     "data": {
      "text/html": [
       "<div>\n",
       "<style scoped>\n",
       "    .dataframe tbody tr th:only-of-type {\n",
       "        vertical-align: middle;\n",
       "    }\n",
       "\n",
       "    .dataframe tbody tr th {\n",
       "        vertical-align: top;\n",
       "    }\n",
       "\n",
       "    .dataframe thead th {\n",
       "        text-align: right;\n",
       "    }\n",
       "</style>\n",
       "<table border=\"1\" class=\"dataframe\">\n",
       "  <thead>\n",
       "    <tr style=\"text-align: right;\">\n",
       "      <th></th>\n",
       "      <th>age</th>\n",
       "      <th>job</th>\n",
       "      <th>marital</th>\n",
       "      <th>education</th>\n",
       "      <th>default</th>\n",
       "      <th>housing</th>\n",
       "      <th>loan</th>\n",
       "      <th>contact</th>\n",
       "      <th>month</th>\n",
       "      <th>day_of_week</th>\n",
       "      <th>duration</th>\n",
       "      <th>campaign</th>\n",
       "      <th>pdays</th>\n",
       "      <th>previous</th>\n",
       "      <th>poutcome</th>\n",
       "      <th>emp.var.rate</th>\n",
       "      <th>cons.price.idx</th>\n",
       "      <th>cons.conf.idx</th>\n",
       "      <th>euribor3m</th>\n",
       "      <th>nr.employed</th>\n",
       "    </tr>\n",
       "  </thead>\n",
       "  <tbody>\n",
       "    <tr>\n",
       "      <th>0</th>\n",
       "      <td>25</td>\n",
       "      <td>blue-collar</td>\n",
       "      <td>single</td>\n",
       "      <td>high.school</td>\n",
       "      <td>no</td>\n",
       "      <td>yes</td>\n",
       "      <td>no</td>\n",
       "      <td>cellular</td>\n",
       "      <td>jul</td>\n",
       "      <td>mon</td>\n",
       "      <td>619</td>\n",
       "      <td>2</td>\n",
       "      <td>999</td>\n",
       "      <td>0</td>\n",
       "      <td>nonexistent</td>\n",
       "      <td>1.4</td>\n",
       "      <td>93.918</td>\n",
       "      <td>-42.7</td>\n",
       "      <td>4.962</td>\n",
       "      <td>5228.1</td>\n",
       "    </tr>\n",
       "    <tr>\n",
       "      <th>1</th>\n",
       "      <td>40</td>\n",
       "      <td>admin.</td>\n",
       "      <td>married</td>\n",
       "      <td>high.school</td>\n",
       "      <td>no</td>\n",
       "      <td>no</td>\n",
       "      <td>no</td>\n",
       "      <td>telephone</td>\n",
       "      <td>jun</td>\n",
       "      <td>thu</td>\n",
       "      <td>97</td>\n",
       "      <td>1</td>\n",
       "      <td>999</td>\n",
       "      <td>0</td>\n",
       "      <td>nonexistent</td>\n",
       "      <td>1.4</td>\n",
       "      <td>94.465</td>\n",
       "      <td>-41.8</td>\n",
       "      <td>4.958</td>\n",
       "      <td>5228.1</td>\n",
       "    </tr>\n",
       "    <tr>\n",
       "      <th>2</th>\n",
       "      <td>51</td>\n",
       "      <td>technician</td>\n",
       "      <td>married</td>\n",
       "      <td>university.degree</td>\n",
       "      <td>no</td>\n",
       "      <td>yes</td>\n",
       "      <td>no</td>\n",
       "      <td>cellular</td>\n",
       "      <td>aug</td>\n",
       "      <td>wed</td>\n",
       "      <td>512</td>\n",
       "      <td>5</td>\n",
       "      <td>999</td>\n",
       "      <td>0</td>\n",
       "      <td>nonexistent</td>\n",
       "      <td>1.4</td>\n",
       "      <td>93.444</td>\n",
       "      <td>-36.1</td>\n",
       "      <td>4.964</td>\n",
       "      <td>5228.1</td>\n",
       "    </tr>\n",
       "    <tr>\n",
       "      <th>3</th>\n",
       "      <td>37</td>\n",
       "      <td>blue-collar</td>\n",
       "      <td>married</td>\n",
       "      <td>high.school</td>\n",
       "      <td>unknown</td>\n",
       "      <td>yes</td>\n",
       "      <td>no</td>\n",
       "      <td>cellular</td>\n",
       "      <td>jul</td>\n",
       "      <td>tue</td>\n",
       "      <td>423</td>\n",
       "      <td>1</td>\n",
       "      <td>999</td>\n",
       "      <td>0</td>\n",
       "      <td>nonexistent</td>\n",
       "      <td>1.4</td>\n",
       "      <td>93.918</td>\n",
       "      <td>-42.7</td>\n",
       "      <td>4.961</td>\n",
       "      <td>5228.1</td>\n",
       "    </tr>\n",
       "    <tr>\n",
       "      <th>4</th>\n",
       "      <td>54</td>\n",
       "      <td>housemaid</td>\n",
       "      <td>married</td>\n",
       "      <td>university.degree</td>\n",
       "      <td>unknown</td>\n",
       "      <td>yes</td>\n",
       "      <td>no</td>\n",
       "      <td>cellular</td>\n",
       "      <td>aug</td>\n",
       "      <td>thu</td>\n",
       "      <td>297</td>\n",
       "      <td>1</td>\n",
       "      <td>999</td>\n",
       "      <td>0</td>\n",
       "      <td>nonexistent</td>\n",
       "      <td>1.4</td>\n",
       "      <td>93.444</td>\n",
       "      <td>-36.1</td>\n",
       "      <td>4.963</td>\n",
       "      <td>5228.1</td>\n",
       "    </tr>\n",
       "  </tbody>\n",
       "</table>\n",
       "</div>"
      ],
      "text/plain": [
       "   age          job  marital          education  default housing loan  \\\n",
       "0   25  blue-collar   single        high.school       no     yes   no   \n",
       "1   40       admin.  married        high.school       no      no   no   \n",
       "2   51   technician  married  university.degree       no     yes   no   \n",
       "3   37  blue-collar  married        high.school  unknown     yes   no   \n",
       "4   54    housemaid  married  university.degree  unknown     yes   no   \n",
       "\n",
       "     contact month day_of_week  duration  campaign  pdays  previous  \\\n",
       "0   cellular   jul         mon       619         2    999         0   \n",
       "1  telephone   jun         thu        97         1    999         0   \n",
       "2   cellular   aug         wed       512         5    999         0   \n",
       "3   cellular   jul         tue       423         1    999         0   \n",
       "4   cellular   aug         thu       297         1    999         0   \n",
       "\n",
       "      poutcome  emp.var.rate  cons.price.idx  cons.conf.idx  euribor3m  \\\n",
       "0  nonexistent           1.4          93.918          -42.7      4.962   \n",
       "1  nonexistent           1.4          94.465          -41.8      4.958   \n",
       "2  nonexistent           1.4          93.444          -36.1      4.964   \n",
       "3  nonexistent           1.4          93.918          -42.7      4.961   \n",
       "4  nonexistent           1.4          93.444          -36.1      4.963   \n",
       "\n",
       "   nr.employed  \n",
       "0       5228.1  \n",
       "1       5228.1  \n",
       "2       5228.1  \n",
       "3       5228.1  \n",
       "4       5228.1  "
      ]
     },
     "execution_count": 94,
     "metadata": {},
     "output_type": "execute_result"
    }
   ],
   "source": [
    "X.head()"
   ]
  },
  {
   "cell_type": "markdown",
   "metadata": {},
   "source": [
    "What is the cardinality of categorical variables?"
   ]
  },
  {
   "cell_type": "code",
   "execution_count": 128,
   "metadata": {},
   "outputs": [
    {
     "data": {
      "text/plain": [
       "job            12\n",
       "month          10\n",
       "education       8\n",
       "day_of_week     5\n",
       "marital         4\n",
       "poutcome        3\n",
       "loan            3\n",
       "housing         3\n",
       "default         3\n",
       "contact         2\n",
       "dtype: int64"
      ]
     },
     "execution_count": 128,
     "metadata": {},
     "output_type": "execute_result"
    }
   ],
   "source": [
    "X[CATEGORICAL_FEATURES].nunique().sort_values(ascending=False)"
   ]
  },
  {
   "cell_type": "markdown",
   "metadata": {},
   "source": [
    "Let's see if there are values that are in the training set but not in the test set or vice-versa."
   ]
  },
  {
   "cell_type": "code",
   "execution_count": 95,
   "metadata": {},
   "outputs": [
    {
     "data": {
      "text/html": [
       "<div>\n",
       "<style scoped>\n",
       "    .dataframe tbody tr th:only-of-type {\n",
       "        vertical-align: middle;\n",
       "    }\n",
       "\n",
       "    .dataframe tbody tr th {\n",
       "        vertical-align: top;\n",
       "    }\n",
       "\n",
       "    .dataframe thead th {\n",
       "        text-align: right;\n",
       "    }\n",
       "</style>\n",
       "<table border=\"1\" class=\"dataframe\">\n",
       "  <thead>\n",
       "    <tr style=\"text-align: right;\">\n",
       "      <th></th>\n",
       "      <th>variable</th>\n",
       "      <th>value</th>\n",
       "      <th>occurances</th>\n",
       "    </tr>\n",
       "  </thead>\n",
       "  <tbody>\n",
       "    <tr>\n",
       "      <th>2</th>\n",
       "      <td>default</td>\n",
       "      <td>yes</td>\n",
       "      <td>NaN</td>\n",
       "    </tr>\n",
       "  </tbody>\n",
       "</table>\n",
       "</div>"
      ],
      "text/plain": [
       "  variable value  occurances\n",
       "2  default   yes         NaN"
      ]
     },
     "execution_count": 95,
     "metadata": {},
     "output_type": "execute_result"
    }
   ],
   "source": [
    "# For each variable\n",
    "#  Compute number of occurances of each value in the training set\n",
    "#  Compute number of occurances of each value in the test set\n",
    "#  Compute difference as training - test\n",
    "\n",
    "var_differences = []\n",
    "\n",
    "for var in CATEGORICAL_FEATURES:\n",
    "#   var = 'job'\n",
    "  train_counts = (X[var]\n",
    "    .value_counts()\n",
    "    .rename('occurances')\n",
    "    .rename_axis('value').reset_index()\n",
    "    .assign(variable=lambda x: var)\n",
    "    .set_index(['variable', 'value'])\n",
    "  )\n",
    "\n",
    "  test_counts = (X_test[var]\n",
    "    .value_counts()\n",
    "    .rename('occurances')\n",
    "    .rename_axis('value').reset_index()\n",
    "    .assign(variable=lambda x: var)\n",
    "    .set_index(['variable', 'value'])\n",
    "  )\n",
    "\n",
    "  differences = (train_counts - test_counts).reset_index()\n",
    "  \n",
    "  var_differences.append(differences)\n",
    "\n",
    "differences = pd.concat(var_differences)\n",
    "differences[differences['occurances'].isnull()]"
   ]
  },
  {
   "cell_type": "markdown",
   "metadata": {},
   "source": [
    "There are only 3 instances of defaulting customers in the training set anyway but for completeness, we'll merge these values into the 'unknown' category."
   ]
  },
  {
   "cell_type": "code",
   "execution_count": 141,
   "metadata": {},
   "outputs": [
    {
     "data": {
      "text/plain": [
       "0.6800129332118983"
      ]
     },
     "execution_count": 141,
     "metadata": {},
     "output_type": "execute_result"
    }
   ],
   "source": [
    "X_train_2, X_val_2 = X_train.copy(), X_val.copy()\n",
    "\n",
    "X_train_2.loc[X_train_2.default == 'yes', 'default'] = 'unknown'\n",
    "X_val_2.loc[X_val_2.default == 'yes', 'default'] = 'unknown'\n",
    "\n",
    "(Model(tuned_model.name, tuned_model.model, tuned_model.pipeline)\n",
    "  .train(X_train_2, y_train)\n",
    "  .score(X_val_2, y_val, scorer)\n",
    ")"
   ]
  },
  {
   "cell_type": "markdown",
   "metadata": {},
   "source": [
    "No effect yet. Let's try merging the informative variables with low representation together and then merge the rest of the variables with low representation together."
   ]
  },
  {
   "cell_type": "code",
   "execution_count": 142,
   "metadata": {},
   "outputs": [
    {
     "data": {
      "text/plain": [
       "0.6810389250039639"
      ]
     },
     "execution_count": 142,
     "metadata": {},
     "output_type": "execute_result"
    }
   ],
   "source": [
    "X_train_3, X_val_3 = X_train.copy(), X_val.copy()\n",
    "\n",
    "X_train_3.loc[X_train_3.job.isin(['retired', 'student', 'unemployed']), 'job'] = 'rare_high_prob'\n",
    "X_val_3.loc[X_val_3.job.isin(['retired', 'student', 'unemployed']), 'job'] = 'rare_high_prob'\n",
    "\n",
    "(Model(tuned_model.name, tuned_model.model, tuned_model.pipeline)\n",
    "  .train(X_train_3, y_train)\n",
    "  .score(X_val_3, y_val, scorer)\n",
    ")"
   ]
  },
  {
   "cell_type": "code",
   "execution_count": 143,
   "metadata": {},
   "outputs": [
    {
     "data": {
      "text/plain": [
       "array(['blue-collar', 'admin.', 'technician', 'housemaid', 'entrepreneur',\n",
       "       'unemployed', 'student', 'management', 'services', 'retired',\n",
       "       'self-employed', 'unknown'], dtype=object)"
      ]
     },
     "execution_count": 143,
     "metadata": {},
     "output_type": "execute_result"
    }
   ],
   "source": [
    "X.job.unique()"
   ]
  },
  {
   "cell_type": "code",
   "execution_count": 144,
   "metadata": {},
   "outputs": [
    {
     "data": {
      "text/plain": [
       "0.6793289386838545"
      ]
     },
     "execution_count": 144,
     "metadata": {},
     "output_type": "execute_result"
    }
   ],
   "source": [
    "X_train_5, X_val_5 = X_train.copy(), X_val.copy()\n",
    "\n",
    "X_train_5.loc[X_train_5.job.isin(['entrepreneur', 'self-employed', 'housemaid', 'unknown']), 'job'] = 'rare_low_prob'\n",
    "X_val_5.loc[X_val_5.job.isin(['entrepreneur', 'self-employed', 'housemaid', 'unknown']), 'job'] = 'rare_low_prob'\n",
    "\n",
    "(Model(tuned_model.name, tuned_model.model, tuned_model.pipeline)\n",
    "  .train(X_train_5, y_train)\n",
    "  .score(X_val_5, y_val, scorer)\n",
    ")"
   ]
  },
  {
   "cell_type": "code",
   "execution_count": 145,
   "metadata": {},
   "outputs": [
    {
     "data": {
      "text/plain": [
       "0.6803650705565245"
      ]
     },
     "execution_count": 145,
     "metadata": {},
     "output_type": "execute_result"
    }
   ],
   "source": [
    "X_train_6, X_val_6 = X_train.copy(), X_val.copy()\n",
    "\n",
    "X_train_6.loc[X_train_6.job.isin(['retired', 'student', 'unemployed']), 'job'] = 'rare_high_prob'\n",
    "X_train_6.loc[X_train_6.job.isin(['entrepreneur', 'self-employed', 'housemaid', 'unknown']), 'job'] = 'rare_low_prob'\n",
    "X_val_6.loc[X_val_6.job.isin(['retired', 'student', 'unemployed']), 'job'] = 'rare_high_prob'\n",
    "X_val_6.loc[X_val_6.job.isin(['entrepreneur', 'self-employed', 'housemaid', 'unknown']), 'job'] = 'rare_low_prob'\n",
    "\n",
    "(Model(tuned_model.name, tuned_model.model, tuned_model.pipeline)\n",
    "  .train(X_train_6, y_train)\n",
    "  .score(X_val_6, y_val, scorer)\n",
    ")"
   ]
  },
  {
   "cell_type": "code",
   "execution_count": 146,
   "metadata": {},
   "outputs": [
    {
     "data": {
      "text/plain": [
       "array(['high.school', 'university.degree', 'basic.9y',\n",
       "       'professional.course', 'basic.4y', 'basic.6y', 'unknown',\n",
       "       'illiterate'], dtype=object)"
      ]
     },
     "execution_count": 146,
     "metadata": {},
     "output_type": "execute_result"
    }
   ],
   "source": [
    "X.education.unique()"
   ]
  },
  {
   "cell_type": "code",
   "execution_count": 147,
   "metadata": {},
   "outputs": [
    {
     "data": {
      "text/plain": [
       "0.6734700462018944"
      ]
     },
     "execution_count": 147,
     "metadata": {},
     "output_type": "execute_result"
    }
   ],
   "source": [
    "X_train_7, X_val_7 = X_train.copy(), X_val.copy()\n",
    "\n",
    "X_train_7.loc[X_train_7.education.isin(['high.school', 'university.degree', 'basic.9y','professional.course', 'basic.4y', 'basic.6y', 'unknown']), 'education'] = 'rare_low_prob'\n",
    "X_val_7.loc[X_val_7.education.isin(['high.school', 'university.degree', 'basic.9y','professional.course', 'basic.4y', 'basic.6y', 'unknown']), 'education'] = 'rare_low_prob'\n",
    "\n",
    "(Model(tuned_model.name, tuned_model.model, tuned_model.pipeline)\n",
    "  .train(X_train_7, y_train)\n",
    "  .score(X_val_7, y_val, scorer)\n",
    ")"
   ]
  },
  {
   "cell_type": "code",
   "execution_count": 151,
   "metadata": {},
   "outputs": [
    {
     "data": {
      "text/plain": [
       "rare_low_prob    26347\n",
       "illiterate          13\n",
       "Name: education, dtype: int64"
      ]
     },
     "execution_count": 151,
     "metadata": {},
     "output_type": "execute_result"
    }
   ],
   "source": [
    "X_train_7.education.value_counts()"
   ]
  },
  {
   "cell_type": "markdown",
   "metadata": {},
   "source": [
    "Maybe we should consider dropping education if it's not providing much predictive value."
   ]
  },
  {
   "cell_type": "code",
   "execution_count": 152,
   "metadata": {},
   "outputs": [
    {
     "data": {
      "text/plain": [
       "0.6814664215839913"
      ]
     },
     "execution_count": 152,
     "metadata": {},
     "output_type": "execute_result"
    }
   ],
   "source": [
    "X_train_8, X_val_8 = X_train.copy(), X_val.copy()\n",
    "\n",
    "X_train_8.loc[X_train_8.month.isin(['mar', 'oct', 'dec', 'sep']), 'month'] = 'rare_high_prob'\n",
    "X_val_8.loc[X_val_8.month.isin(['mar', 'oct', 'dec', 'sep']), 'month'] = 'rare_high_prob'\n",
    "\n",
    "(Model(tuned_model.name, tuned_model.model, tuned_model.pipeline)\n",
    "  .train(X_train_8, y_train)\n",
    "  .score(X_val_8, y_val, scorer)\n",
    ")"
   ]
  },
  {
   "cell_type": "code",
   "execution_count": 153,
   "metadata": {},
   "outputs": [
    {
     "data": {
      "text/plain": [
       "0.6827966157941896"
      ]
     },
     "execution_count": 153,
     "metadata": {},
     "output_type": "execute_result"
    }
   ],
   "source": [
    "X_train_9, X_val_9 = X_train.copy(), X_val.copy()\n",
    "\n",
    "X_train_9.loc[X_train_9.month.isin(['mar', 'oct', 'dec', 'sep']), 'month'] = 'rare_high_prob'\n",
    "X_val_9.loc[X_val_9.month.isin(['mar', 'oct', 'dec', 'sep']), 'month'] = 'rare_high_prob'\n",
    "\n",
    "X_train_9.loc[X_train_9.month.isin(['may', 'jul', 'aug', 'jun', 'nov', 'apr']), 'month'] = 'rare_low_prob'\n",
    "X_val_9.loc[X_val_9.month.isin(['may', 'jul', 'aug', 'jun', 'nov', 'apr']), 'month'] = 'rare_low_prob'\n",
    "\n",
    "(Model(tuned_model.name, tuned_model.model, tuned_model.pipeline)\n",
    "  .train(X_train_9, y_train)\n",
    "  .score(X_val_9, y_val, scorer)\n",
    ")"
   ]
  },
  {
   "cell_type": "code",
   "execution_count": 154,
   "metadata": {},
   "outputs": [
    {
     "data": {
      "text/plain": [
       "rare_low_prob     25045\n",
       "rare_high_prob     1315\n",
       "Name: month, dtype: int64"
      ]
     },
     "execution_count": 154,
     "metadata": {},
     "output_type": "execute_result"
    }
   ],
   "source": [
    "X_train_9.month.value_counts()"
   ]
  },
  {
   "cell_type": "code",
   "execution_count": 155,
   "metadata": {},
   "outputs": [
    {
     "data": {
      "text/plain": [
       "0.6823271761534803"
      ]
     },
     "execution_count": 155,
     "metadata": {},
     "output_type": "execute_result"
    }
   ],
   "source": [
    "X_train_10, X_val_10 = X_train.copy(), X_val.copy()\n",
    "\n",
    "X_train_10.loc[X_train_10.poutcome.isin(['failure', 'nonexistent']), 'poutcome'] = 'failure'\n",
    "X_val_10.loc[X_val_10.poutcome.isin(['failure', 'nonexistent']), 'poutcome'] = 'failure'\n",
    "\n",
    "\n",
    "(Model(tuned_model.name, tuned_model.model, tuned_model.pipeline)\n",
    "  .train(X_train_10, y_train)\n",
    "  .score(X_val_10, y_val, scorer)\n",
    ")"
   ]
  },
  {
   "cell_type": "code",
   "execution_count": 156,
   "metadata": {},
   "outputs": [
    {
     "data": {
      "text/plain": [
       "0.682196737843887"
      ]
     },
     "execution_count": 156,
     "metadata": {},
     "output_type": "execute_result"
    }
   ],
   "source": [
    "X_train_11, X_val_11 = X_train.copy(), X_val.copy()\n",
    "\n",
    "X_train_11.loc[X_train_11.job.isin(['retired', 'student', 'unemployed']), 'job'] = 'rare_high_prob'\n",
    "X_val_11.loc[X_val_11.job.isin(['retired', 'student', 'unemployed']), 'job'] = 'rare_high_prob'\n",
    "\n",
    "X_train_11.loc[X_train_11.month.isin(['mar', 'oct', 'dec', 'sep']), 'month'] = 'rare_high_prob'\n",
    "X_val_11.loc[X_val_11.month.isin(['mar', 'oct', 'dec', 'sep']), 'month'] = 'rare_high_prob'\n",
    "\n",
    "X_train_11.loc[X_train_11.poutcome.isin(['failure', 'nonexistent']), 'poutcome'] = 'failure'\n",
    "X_val_11.loc[X_val_11.poutcome.isin(['failure', 'nonexistent']), 'poutcome'] = 'failure'\n",
    "\n",
    "(Model(tuned_model.name, tuned_model.model, tuned_model.pipeline)\n",
    "  .train(X_train_11, y_train)\n",
    "  .score(X_val_11, y_val, scorer)\n",
    ")"
   ]
  },
  {
   "cell_type": "markdown",
   "metadata": {},
   "source": [
    "Let's evaluate on the test set with these transformations."
   ]
  }
 ],
 "metadata": {
  "kernelspec": {
   "display_name": "Python 3",
   "language": "python",
   "name": "python3"
  },
  "language_info": {
   "codemirror_mode": {
    "name": "ipython",
    "version": 3
   },
   "file_extension": ".py",
   "mimetype": "text/x-python",
   "name": "python",
   "nbconvert_exporter": "python",
   "pygments_lexer": "ipython3",
   "version": "3.5.5"
  }
 },
 "nbformat": 4,
 "nbformat_minor": 2
}
