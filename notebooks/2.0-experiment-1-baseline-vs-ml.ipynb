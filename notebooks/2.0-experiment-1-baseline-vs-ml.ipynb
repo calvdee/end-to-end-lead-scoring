{
 "cells": [
  {
   "cell_type": "markdown",
   "metadata": {},
   "source": [
    "# Experiment #1 - Baseline Model vs. Baseline ML Models"
   ]
  },
  {
   "cell_type": "markdown",
   "metadata": {},
   "source": [
    "## Overview\n",
    "\n",
    "The purpose of this experiment is to establish a baseline for a domain-driven model and to compare it to more sophisticated machine learning models using baseline features. Without collaboration with stakeholders or additional predictors such as customer tenure, lifetime value, historical response rate, etc., our baseline model will simply follow our intuited rule:\n",
    "\n",
    "> Include the customer if they responded positively to the previous marketing campaign. If there were not enough respondents to use up the entire budget then randomly sample the training set for additional instances to ensure that the maximum number of customers are included.\n",
    "\n",
    "To estimate the performance of machine learning models, we will train the following models with three different hyperparameter configurations, selecting the best configuration and averaging the scores of the best models:\n",
    "\n",
    "* Naive Bayes\n",
    "* Decision tree\n",
    "* Logististic regression\n",
    "* Neural network\n",
    "* SVM\n",
    "\n",
    "Scores will be based on how well a classifier can prioritize 6.6% of the population since that is all our budget allows for when deploying a model to classify all 100,000 customers."
   ]
  },
  {
   "cell_type": "code",
   "execution_count": 1,
   "metadata": {},
   "outputs": [],
   "source": [
    "%load_ext autoreload\n",
    "%autoreload 2\n",
    "\n",
    "from utils import code"
   ]
  },
  {
   "cell_type": "code",
   "execution_count": 2,
   "metadata": {},
   "outputs": [],
   "source": [
    "import pandas as pd\n",
    "import numpy as np\n",
    "import scikitplot as skplt\n",
    "\n",
    "# Model evaluation\n",
    "from sklearn.metrics import make_scorer, roc_auc_score, classification_report, confusion_matrix\n",
    "from sklearn.model_selection import train_test_split, cross_val_predict\n",
    "from support.evaluation import plot_learning_curve, evaluate_model\n",
    "\n",
    "# Support\n",
    "from support.pipeline import get_pipeline, get_feature_names_for_pipeline\n",
    "from support.model import Model, build_tuned_model\n",
    "from support.datasets import get_data\n",
    "from support.experiments import experiment_1, get_scorer\n",
    "from support import parameters as params\n",
    "\n",
    "# Algos\n",
    "from sklearn.naive_bayes import BernoulliNB\n",
    "from sklearn.dummy import DummyClassifier\n",
    "from sklearn.tree import DecisionTreeClassifier\n",
    "from sklearn.ensemble import RandomForestClassifier\n",
    "from sklearn.linear_model import LogisticRegression\n",
    "from sklearn.svm import SVC\n",
    "from sklearn.neural_network import MLPClassifier\n",
    "\n",
    "%matplotlib inline"
   ]
  },
  {
   "cell_type": "markdown",
   "metadata": {},
   "source": [
    "## Data"
   ]
  },
  {
   "cell_type": "code",
   "execution_count": 3,
   "metadata": {},
   "outputs": [
    {
     "data": {
      "text/html": [
       "<div>\n",
       "<style scoped>\n",
       "    .dataframe tbody tr th:only-of-type {\n",
       "        vertical-align: middle;\n",
       "    }\n",
       "\n",
       "    .dataframe tbody tr th {\n",
       "        vertical-align: top;\n",
       "    }\n",
       "\n",
       "    .dataframe thead th {\n",
       "        text-align: right;\n",
       "    }\n",
       "</style>\n",
       "<table border=\"1\" class=\"dataframe\">\n",
       "  <thead>\n",
       "    <tr style=\"text-align: right;\">\n",
       "      <th></th>\n",
       "      <th>age</th>\n",
       "      <th>job</th>\n",
       "      <th>marital</th>\n",
       "      <th>education</th>\n",
       "      <th>default</th>\n",
       "      <th>housing</th>\n",
       "      <th>loan</th>\n",
       "      <th>contact</th>\n",
       "      <th>month</th>\n",
       "      <th>day_of_week</th>\n",
       "      <th>duration</th>\n",
       "      <th>campaign</th>\n",
       "      <th>pdays</th>\n",
       "      <th>previous</th>\n",
       "      <th>poutcome</th>\n",
       "      <th>emp.var.rate</th>\n",
       "      <th>cons.price.idx</th>\n",
       "      <th>cons.conf.idx</th>\n",
       "      <th>euribor3m</th>\n",
       "      <th>nr.employed</th>\n",
       "    </tr>\n",
       "  </thead>\n",
       "  <tbody>\n",
       "    <tr>\n",
       "      <th>0</th>\n",
       "      <td>25</td>\n",
       "      <td>blue-collar</td>\n",
       "      <td>single</td>\n",
       "      <td>high.school</td>\n",
       "      <td>no</td>\n",
       "      <td>yes</td>\n",
       "      <td>no</td>\n",
       "      <td>cellular</td>\n",
       "      <td>jul</td>\n",
       "      <td>mon</td>\n",
       "      <td>619</td>\n",
       "      <td>2</td>\n",
       "      <td>999</td>\n",
       "      <td>0</td>\n",
       "      <td>nonexistent</td>\n",
       "      <td>1.4</td>\n",
       "      <td>93.918</td>\n",
       "      <td>-42.7</td>\n",
       "      <td>4.962</td>\n",
       "      <td>5228.1</td>\n",
       "    </tr>\n",
       "    <tr>\n",
       "      <th>1</th>\n",
       "      <td>40</td>\n",
       "      <td>admin.</td>\n",
       "      <td>married</td>\n",
       "      <td>high.school</td>\n",
       "      <td>no</td>\n",
       "      <td>no</td>\n",
       "      <td>no</td>\n",
       "      <td>telephone</td>\n",
       "      <td>jun</td>\n",
       "      <td>thu</td>\n",
       "      <td>97</td>\n",
       "      <td>1</td>\n",
       "      <td>999</td>\n",
       "      <td>0</td>\n",
       "      <td>nonexistent</td>\n",
       "      <td>1.4</td>\n",
       "      <td>94.465</td>\n",
       "      <td>-41.8</td>\n",
       "      <td>4.958</td>\n",
       "      <td>5228.1</td>\n",
       "    </tr>\n",
       "    <tr>\n",
       "      <th>2</th>\n",
       "      <td>51</td>\n",
       "      <td>technician</td>\n",
       "      <td>married</td>\n",
       "      <td>university.degree</td>\n",
       "      <td>no</td>\n",
       "      <td>yes</td>\n",
       "      <td>no</td>\n",
       "      <td>cellular</td>\n",
       "      <td>aug</td>\n",
       "      <td>wed</td>\n",
       "      <td>512</td>\n",
       "      <td>5</td>\n",
       "      <td>999</td>\n",
       "      <td>0</td>\n",
       "      <td>nonexistent</td>\n",
       "      <td>1.4</td>\n",
       "      <td>93.444</td>\n",
       "      <td>-36.1</td>\n",
       "      <td>4.964</td>\n",
       "      <td>5228.1</td>\n",
       "    </tr>\n",
       "    <tr>\n",
       "      <th>3</th>\n",
       "      <td>37</td>\n",
       "      <td>blue-collar</td>\n",
       "      <td>married</td>\n",
       "      <td>high.school</td>\n",
       "      <td>unknown</td>\n",
       "      <td>yes</td>\n",
       "      <td>no</td>\n",
       "      <td>cellular</td>\n",
       "      <td>jul</td>\n",
       "      <td>tue</td>\n",
       "      <td>423</td>\n",
       "      <td>1</td>\n",
       "      <td>999</td>\n",
       "      <td>0</td>\n",
       "      <td>nonexistent</td>\n",
       "      <td>1.4</td>\n",
       "      <td>93.918</td>\n",
       "      <td>-42.7</td>\n",
       "      <td>4.961</td>\n",
       "      <td>5228.1</td>\n",
       "    </tr>\n",
       "    <tr>\n",
       "      <th>4</th>\n",
       "      <td>54</td>\n",
       "      <td>housemaid</td>\n",
       "      <td>married</td>\n",
       "      <td>university.degree</td>\n",
       "      <td>unknown</td>\n",
       "      <td>yes</td>\n",
       "      <td>no</td>\n",
       "      <td>cellular</td>\n",
       "      <td>aug</td>\n",
       "      <td>thu</td>\n",
       "      <td>297</td>\n",
       "      <td>1</td>\n",
       "      <td>999</td>\n",
       "      <td>0</td>\n",
       "      <td>nonexistent</td>\n",
       "      <td>1.4</td>\n",
       "      <td>93.444</td>\n",
       "      <td>-36.1</td>\n",
       "      <td>4.963</td>\n",
       "      <td>5228.1</td>\n",
       "    </tr>\n",
       "  </tbody>\n",
       "</table>\n",
       "</div>"
      ],
      "text/plain": [
       "   age          job  marital          education  default housing loan  \\\n",
       "0   25  blue-collar   single        high.school       no     yes   no   \n",
       "1   40       admin.  married        high.school       no      no   no   \n",
       "2   51   technician  married  university.degree       no     yes   no   \n",
       "3   37  blue-collar  married        high.school  unknown     yes   no   \n",
       "4   54    housemaid  married  university.degree  unknown     yes   no   \n",
       "\n",
       "     contact month day_of_week  duration  campaign  pdays  previous  \\\n",
       "0   cellular   jul         mon       619         2    999         0   \n",
       "1  telephone   jun         thu        97         1    999         0   \n",
       "2   cellular   aug         wed       512         5    999         0   \n",
       "3   cellular   jul         tue       423         1    999         0   \n",
       "4   cellular   aug         thu       297         1    999         0   \n",
       "\n",
       "      poutcome  emp.var.rate  cons.price.idx  cons.conf.idx  euribor3m  \\\n",
       "0  nonexistent           1.4          93.918          -42.7      4.962   \n",
       "1  nonexistent           1.4          94.465          -41.8      4.958   \n",
       "2  nonexistent           1.4          93.444          -36.1      4.964   \n",
       "3  nonexistent           1.4          93.918          -42.7      4.961   \n",
       "4  nonexistent           1.4          93.444          -36.1      4.963   \n",
       "\n",
       "   nr.employed  \n",
       "0       5228.1  \n",
       "1       5228.1  \n",
       "2       5228.1  \n",
       "3       5228.1  \n",
       "4       5228.1  "
      ]
     },
     "execution_count": 3,
     "metadata": {},
     "output_type": "execute_result"
    }
   ],
   "source": [
    "X, y = get_data('../data/train.csv')\n",
    "X.head()"
   ]
  },
  {
   "cell_type": "code",
   "execution_count": 4,
   "metadata": {},
   "outputs": [
    {
     "name": "stdout",
     "output_type": "stream",
     "text": [
      "Number of instances: 32,950\n",
      "Number of conversions 3,712\n",
      "Conversion rate: 11.27%\n",
      "6.6% of the population 2,174\n",
      "Expected number of conversions targetting 2,174 @ 11.27%: 244\n"
     ]
    }
   ],
   "source": [
    "n_instances = len(X)\n",
    "p_instances = y.sum() / len(y)\n",
    "p_targeted = .066\n",
    "n_targeted = int(n_instances*p_targeted)\n",
    "\n",
    "print('Number of instances: {:,}'.format(n_instances))\n",
    "print('Number of conversions {:,}'.format(y.sum()))\n",
    "print('Conversion rate: {:.2f}%'.format(p_instances*100.))\n",
    "print('6.6% of the population {:,}'.format(n_targeted))\n",
    "print('Expected number of conversions targetting {:,} @ {:.2f}%: {:,}'.format(n_targeted, p_instances*100., int(p_instances * n_targeted)))"
   ]
  },
  {
   "cell_type": "markdown",
   "metadata": {},
   "source": [
    "Create a validation set and train the model then score on the test set. The performance will be biased since we are using less training data."
   ]
  },
  {
   "cell_type": "code",
   "execution_count": 19,
   "metadata": {},
   "outputs": [],
   "source": [
    "X_train, X_test, y_train, y_test = train_test_split(X, y, test_size=.2, stratify=y, random_state=1)\n",
    "n_targeted_test = int(len(X_test) * p_targeted)"
   ]
  },
  {
   "cell_type": "markdown",
   "metadata": {},
   "source": [
    "## Baseline Model"
   ]
  },
  {
   "cell_type": "markdown",
   "metadata": {},
   "source": [
    "As stated above, our baseline model is simply the rule \"predict the customer will convert if they converted when contacted as part of the previous campaign\". Whether the customer converted during the previous campaign is encoded in the attribute `poutcome` which can take on three values: success, failure, or nonexistent. We are assuming that 'nonexistent' means that the customer was not part of the previous campaign (see the exploratory notebook - Exploratory Questions)."
   ]
  },
  {
   "cell_type": "code",
   "execution_count": 20,
   "metadata": {},
   "outputs": [],
   "source": [
    "# Setup costs and benefits\n",
    "avg_revenue = params.AVG_REVENUE\n",
    "avg_cost = params.AVG_COST"
   ]
  },
  {
   "cell_type": "code",
   "execution_count": 21,
   "metadata": {},
   "outputs": [],
   "source": [
    "# Get all of the instances where the previous campaign was a success\n",
    "X_test_success = X_test[X_test.poutcome == 'success']\n",
    "\n",
    "# Calcuate how many more instances we need\n",
    "n_rest = n_targeted_test - len(X_test_success)\n",
    "\n",
    "# Randomly choose from the remaining instances\n",
    "rest = X_test[~(X_test.index.isin(X_test_success.index))].sample(n=n_rest, random_state=1)"
   ]
  },
  {
   "cell_type": "code",
   "execution_count": 22,
   "metadata": {},
   "outputs": [],
   "source": [
    "# Combine the targeted and random groups\n",
    "baseline_targets = pd.concat([X_test_success, rest], axis=0)\n",
    "baseline_ys = y_test.loc[baseline_targets.index]\n",
    "baseline_outcomes = baseline_ys.apply(lambda x: avg_cost if x == 0 else avg_cost + avg_revenue)\n",
    "assert(len(baseline_targets) == n_targeted_test)"
   ]
  },
  {
   "cell_type": "code",
   "execution_count": 23,
   "metadata": {},
   "outputs": [],
   "source": [
    "# Create the random targets\n",
    "random_targets = X_test.sample(n=n_targeted_test)\n",
    "random_ys = y.loc[random_targets.index]\n",
    "random_outcomes = random_ys.apply(lambda x: avg_cost if x == 0 else avg_cost + avg_revenue)"
   ]
  },
  {
   "cell_type": "code",
   "execution_count": 24,
   "metadata": {},
   "outputs": [
    {
     "name": "stdout",
     "output_type": "stream",
     "text": [
      "Number of customers targeted: 434/6,590\n",
      "\n",
      "Conversion rate under random policy: 10.14%\n",
      "Expected profit under random policy: $44,180\n",
      "\n",
      "Conversion rate under baseline policy: 40.55%\n",
      "Expected profit under baseline policy: $187,136\n",
      "Lift over random policy: 4.2 or $142,956\n"
     ]
    }
   ],
   "source": [
    "# Compute profit\n",
    "random_profit = sum(random_outcomes)\n",
    "baseline_profit = sum(baseline_outcomes)\n",
    "\n",
    "print('Number of customers targeted: {:,}/{:,}\\n'.format(len(baseline_targets), len(X_test)))\n",
    "\n",
    "print('Conversion rate under random policy: {:.1f}%'.format(random_ys.sum() / len(random_ys)*100.))\n",
    "print('Expected profit under random policy: ${:,}\\n'.format(random_profit))\n",
    "\n",
    "print('Conversion rate under baseline policy: {:.1}%'.format(baseline_ys.sum() / len(baseline_ys)*100.))\n",
    "print('Expected profit under baseline policy: ${:,}'.format(baseline_profit))\n",
    "print('Lift over random policy: {:.1f} or ${:,}'.format(baseline_profit / random_profit, baseline_profit - random_profit))"
   ]
  },
  {
   "cell_type": "markdown",
   "metadata": {},
   "source": [
    "## ML Models"
   ]
  },
  {
   "cell_type": "markdown",
   "metadata": {},
   "source": [
    "Optimize each model we're interested in evaluating then choose the best one and estimate financial impact."
   ]
  },
  {
   "cell_type": "code",
   "execution_count": 5,
   "metadata": {},
   "outputs": [],
   "source": [
    "scorer = get_scorer()"
   ]
  },
  {
   "cell_type": "markdown",
   "metadata": {},
   "source": [
    "Apply feature computations"
   ]
  },
  {
   "cell_type": "code",
   "execution_count": 6,
   "metadata": {},
   "outputs": [
    {
     "name": "stdout",
     "output_type": "stream",
     "text": [
      "Instances: 32,950, Features: 61\n"
     ]
    }
   ],
   "source": [
    "pipeline = experiment_1.get_pipeline()\n",
    "ps = pipeline.fit_transform(X).shape\n",
    "print('Instances: {:,}, Features: {}'.format(ps[0], ps[1]))"
   ]
  },
  {
   "cell_type": "markdown",
   "metadata": {},
   "source": [
    "Configure and run the different algos"
   ]
  },
  {
   "cell_type": "code",
   "execution_count": 7,
   "metadata": {},
   "outputs": [],
   "source": [
    "results = []"
   ]
  },
  {
   "cell_type": "code",
   "execution_count": 8,
   "metadata": {},
   "outputs": [
    {
     "name": "stdout",
     "output_type": "stream",
     "text": [
      "==> Starting 5-fold cross validation for nb model, 32950 examples\n",
      "==> Elapsed seconds: 5.583\n",
      "Best nb model: BernoulliNB(alpha=0.1, binarize=0.0, class_prior=None, fit_prior=False)\n",
      "Best nb score: 0.668\n"
     ]
    }
   ],
   "source": [
    "# Naive Bayes\n",
    "param_grid = [{\n",
    "  'nb__alpha': [0, 0.01, 0.1, 1],\n",
    "  'nb__fit_prior': [True, False]\n",
    "}]\n",
    "\n",
    "# We need to use the categorical pipeline since BernoulliNB only handles\n",
    "# categorical features\n",
    "nb_pipeline = experiment_1.get_categorical_pipeline()\n",
    "result = evaluate_model(X, y, 'nb', BernoulliNB(), param_grid, scorer, nb_pipeline)\n",
    "results.append(result)"
   ]
  },
  {
   "cell_type": "code",
   "execution_count": null,
   "metadata": {},
   "outputs": [],
   "source": [
    "# Decision tree\n",
    "param_grid = [{\n",
    "  'dt__criterion': ['gini', 'entropy'],\n",
    "  'dt__max_depth': [1, 50, 100],\n",
    "  'dt__min_samples_leaf': [5, 10]\n",
    "}]\n",
    "\n",
    "result = evaluate_model(X, y, 'dt', DecisionTreeClassifier(), param_grid, pipeline)\n",
    "results.append(result)"
   ]
  },
  {
   "cell_type": "code",
   "execution_count": null,
   "metadata": {},
   "outputs": [],
   "source": [
    "#  Logistic regression\n",
    "param_grid = [{\n",
    "  'lr__C': [.001, .01, 1.],\n",
    "  'lr__penalty': ['l1', 'l2']\n",
    "}]\n",
    "\n",
    "result = evaluate_model(X, y, 'lr', LogisticRegression(), param_grid, pipeline)\n",
    "results.append(result)"
   ]
  },
  {
   "cell_type": "code",
   "execution_count": null,
   "metadata": {},
   "outputs": [],
   "source": [
    "# NN\n",
    "param_grid = [{\n",
    "  'nn__hidden_layer_sizes': [(10), (100), (200)],\n",
    "#   'nn__activation': ['logistic', 'tanh', 'relu'],\n",
    "#   'nn__solver': ['lbfgs']\n",
    "}]\n",
    "\n",
    "result = evaluate_model(X, y, 'nn', MLPClassifier(), param_grid, pipeline)\n",
    "results.append(result)"
   ]
  },
  {
   "cell_type": "code",
   "execution_count": null,
   "metadata": {},
   "outputs": [],
   "source": [
    "#  SVM\n",
    "param_grid = [{\n",
    "  'svm__C': [.001, .01, 1.],\n",
    "  'svm__gamma': [.1, 1., 2.],\n",
    "  'svm__kernel': ['rbf']\n",
    "}]\n",
    "\n",
    "result = evaluate_model(X, y, 'svm', SVC(), param_grid, pipeline)\n",
    "results.append(result)"
   ]
  },
  {
   "cell_type": "code",
   "execution_count": null,
   "metadata": {},
   "outputs": [],
   "source": [
    "pd.DataFrame.from_dict(list(map(lambda x: { 'model': x[1], 'mean': x[2], 'std': x[3] }, results)))[[\n",
    "  'model', 'mean', 'std'\n",
    "]].sort_values('mean', ascending=False).style.bar()"
   ]
  },
  {
   "cell_type": "markdown",
   "metadata": {},
   "source": [
    "## Financial Impact of the Best Model"
   ]
  },
  {
   "cell_type": "markdown",
   "metadata": {},
   "source": [
    "So now that we have evaluated models and estimated their generalization accuracy, we will select the best model and take a closer look at its performance and what we can expect in terms of profitability for targeting 6.6% of the population."
   ]
  },
  {
   "cell_type": "code",
   "execution_count": 32,
   "metadata": {},
   "outputs": [
    {
     "name": "stdout",
     "output_type": "stream",
     "text": [
      "Best model performance mean: 0.668297066184034\n",
      "Best model performance std: 0.006536914255911055\n"
     ]
    }
   ],
   "source": [
    "model_result = list(filter(lambda x: x[1] == 'nb', results))[0]\n",
    "model = model_result[0]\n",
    "model.model\n",
    "print('Best model performance mean:', model_result[2])\n",
    "print('Best model performance std:', model_result[3])"
   ]
  },
  {
   "cell_type": "code",
   "execution_count": 33,
   "metadata": {},
   "outputs": [
    {
     "data": {
      "image/png": "[encoded data removed]",
      "text/plain": [
       "<Figure size 432x288 with 1 Axes>"
      ]
     },
     "metadata": {},
     "output_type": "display_data"
    }
   ],
   "source": [
    "plot_learning_curve(model.model, 'Naive Bayes Learning Curves', model.pipeline.fit_transform(X), y, cv=5, scoring=scorer);"
   ]
  },
  {
   "cell_type": "markdown",
   "metadata": {},
   "source": [
    "The model may be suffering from high bias - we could improve the performance - but we don't have to be concerned with variance (our model will generalize well).\n",
    "Run 5-fold cross validation using the optimized model and print the metrics"
   ]
  },
  {
   "cell_type": "code",
   "execution_count": 34,
   "metadata": {},
   "outputs": [],
   "source": [
    "preds = cross_val_predict(model.get_model_pipeline(), X, y, cv=5)"
   ]
  },
  {
   "cell_type": "code",
   "execution_count": 35,
   "metadata": {},
   "outputs": [
    {
     "name": "stdout",
     "output_type": "stream",
     "text": [
      "              precision    recall  f1-score   support\n",
      "\n",
      "           0       0.94      0.64      0.76     29238\n",
      "           1       0.20      0.70      0.31      3712\n",
      "\n",
      "   micro avg       0.64      0.64      0.64     32950\n",
      "   macro avg       0.57      0.67      0.53     32950\n",
      "weighted avg       0.86      0.64      0.71     32950\n",
      "\n"
     ]
    }
   ],
   "source": [
    "print(classification_report(y, preds))"
   ]
  },
  {
   "cell_type": "markdown",
   "metadata": {},
   "source": [
    "While our model isn't very precise (we are correct in predicting a conversion 20% of the time, 80% of the time we get a false positive), it does a very good job (compared to random guessing) at finding customers that are likely to convert."
   ]
  },
  {
   "cell_type": "code",
   "execution_count": 36,
   "metadata": {},
   "outputs": [
    {
     "data": {
      "text/plain": [
       "BernoulliNB(alpha=0.1, binarize=0.0, class_prior=None, fit_prior=False)"
      ]
     },
     "execution_count": 36,
     "metadata": {},
     "output_type": "execute_result"
    }
   ],
   "source": [
    "model.pipeline.fit(X_train)\n",
    "model.model.fit(model.pipeline.transform(X_train), y_train)"
   ]
  },
  {
   "cell_type": "code",
   "execution_count": 37,
   "metadata": {},
   "outputs": [
    {
     "name": "stderr",
     "output_type": "stream",
     "text": [
      "/anaconda3/envs/py35-ds/lib/python3.5/site-packages/sklearn/utils/deprecation.py:77: DeprecationWarning: Function plot_roc_curve is deprecated; This will be removed in v0.5.0. Please use scikitplot.metrics.plot_roc instead.\n",
      "  warnings.warn(msg, category=DeprecationWarning)\n"
     ]
    },
    {
     "data": {
      "image/png": "[encoded data removed]",
      "text/plain": [
       "<Figure size 432x288 with 1 Axes>"
      ]
     },
     "metadata": {},
     "output_type": "display_data"
    }
   ],
   "source": [
    "probs = model.model.predict_proba(model.pipeline.transform(X_test))\n",
    "preds = model.model.predict(model.pipeline.transform(X_test))\n",
    "\n",
    "_ = skplt.metrics.cumulative_gain_curve(y_test, probs);"
   ]
  },
  {
   "cell_type": "markdown",
   "metadata": {},
   "source": [
    "If we wanted to reduce the number of false positives, we could choose a probability threshold that corresponds to a lower (FPR, TPR) point on the ROC curve but since our profit margin is so high (assuming that our cost and revenue estimatios are correct), then we can afford the misclassifications so long as the classifier does a good job of selecting customers who end up converting."
   ]
  },
  {
   "cell_type": "markdown",
   "metadata": {},
   "source": [
    "Evaluate financial performance"
   ]
  },
  {
   "cell_type": "code",
   "execution_count": 28,
   "metadata": {},
   "outputs": [],
   "source": [
    "# Create a dataframe of probabilities and actual / predicted outcomes\n",
    "probs_df = pd.DataFrame(np.hstack([probs, y_test.values.reshape(-1,1), preds.reshape(-1,1)]), columns=['p_no', 'p_yes', 'actual', 'predicted'])\n",
    "\n",
    "# Sort customers by the probability that they will convert\n",
    "model_targets = probs_df.sort_values('p_yes', ascending=False)\n",
    "\n",
    "# Take the top 6.6%\n",
    "model_targets = model_targets.head(n_targeted_test)\n",
    "\n",
    "# Calculate financial outcomes\n",
    "model_outcomes = model_targets.actual.apply(lambda x: avg_cost if x == 0 else avg_cost + avg_revenue)"
   ]
  },
  {
   "cell_type": "markdown",
   "metadata": {},
   "source": [
    "Model performance for top 6.6%"
   ]
  },
  {
   "cell_type": "code",
   "execution_count": 29,
   "metadata": {},
   "outputs": [
    {
     "name": "stdout",
     "output_type": "stream",
     "text": [
      "              precision    recall  f1-score   support\n",
      "\n",
      "         0.0       0.00      0.00      0.00       206\n",
      "         1.0       0.53      1.00      0.69       228\n",
      "\n",
      "   micro avg       0.53      0.53      0.53       434\n",
      "   macro avg       0.26      0.50      0.34       434\n",
      "weighted avg       0.28      0.53      0.36       434\n",
      "\n"
     ]
    },
    {
     "name": "stderr",
     "output_type": "stream",
     "text": [
      "/anaconda3/envs/py35-ds/lib/python3.5/site-packages/sklearn/metrics/classification.py:1143: UndefinedMetricWarning: Precision and F-score are ill-defined and being set to 0.0 in labels with no predicted samples.\n",
      "  'precision', 'predicted', average, warn_for)\n"
     ]
    }
   ],
   "source": [
    "print(classification_report(model_targets.actual, model_targets.predicted))"
   ]
  },
  {
   "cell_type": "code",
   "execution_count": 30,
   "metadata": {},
   "outputs": [
    {
     "name": "stdout",
     "output_type": "stream",
     "text": [
      "Number of customers targeted: 434/6,590\n",
      "Conversion rate under baseline policy: 52.53%\n",
      "Expected profit under model policy: $243,452\n",
      "Lift over random: 5.5 or $199,272\n",
      "Lift over baseline: 1.3 or $56,316\n"
     ]
    }
   ],
   "source": [
    "# Calculate profit\n",
    "model_profit = sum(model_outcomes)\n",
    "\n",
    "print('Number of customers targeted: {:,}/{:,}'.format(len(model_targets), len(X_test)))\n",
    "print('Conversion rate of model policy: {:.2f}%'.format(model_targets.actual.sum() / len(model_outcomes)*100.))\n",
    "print('Expected profit of model policy: ${:,}'.format(model_profit))\n",
    "print('Lift over random: {:.1f} or ${:,}'.format(model_profit / random_profit, model_profit - random_profit))\n",
    "print('Lift over baseline: {:.1f} or ${:,}'.format(model_profit / baseline_profit, model_profit - baseline_profit))"
   ]
  },
  {
   "cell_type": "markdown",
   "metadata": {},
   "source": [
    "Save the model"
   ]
  },
  {
   "cell_type": "code",
   "execution_count": 11,
   "metadata": {},
   "outputs": [],
   "source": [
    "model.save('../models/experiment-1-model.pkl')"
   ]
  }
 ],
 "metadata": {
  "kernelspec": {
   "display_name": "Python 3",
   "language": "python",
   "name": "python3"
  },
  "language_info": {
   "codemirror_mode": {
    "name": "ipython",
    "version": 3
   },
   "file_extension": ".py",
   "mimetype": "text/x-python",
   "name": "python",
   "nbconvert_exporter": "python",
   "pygments_lexer": "ipython3",
   "version": "3.5.5"
  }
 },
 "nbformat": 4,
 "nbformat_minor": 2
}
