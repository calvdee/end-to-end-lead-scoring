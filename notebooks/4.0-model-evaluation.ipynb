{
 "cells": [
  {
   "cell_type": "markdown",
   "metadata": {},
   "source": [
    "# Model Evaluation"
   ]
  },
  {
   "cell_type": "markdown",
   "metadata": {},
   "source": [
    "Use the best model from the experiments to estimate generalization performance on the test set."
   ]
  },
  {
   "cell_type": "code",
   "execution_count": 62,
   "metadata": {},
   "outputs": [
    {
     "name": "stdout",
     "output_type": "stream",
     "text": [
      "The autoreload extension is already loaded. To reload it, use:\n",
      "  %reload_ext autoreload\n"
     ]
    }
   ],
   "source": [
    "%load_ext autoreload\n",
    "%autoreload 2\n",
    "\n",
    "from utils import code"
   ]
  },
  {
   "cell_type": "code",
   "execution_count": 140,
   "metadata": {},
   "outputs": [],
   "source": [
    "import pandas as pd\n",
    "import numpy as np\n",
    "import scikitplot as skplt\n",
    "import matplotlib.pyplot as plt\n",
    "\n",
    "from sklearn.metrics import classification_report, confusion_matrix\n",
    "\n",
    "from support.model import Model\n",
    "from support.datasets import get_data\n",
    "from support.experiments import get_scorer\n",
    "from support.experiments.experiment_1 import CATEGORICAL_FEATURES, baseline_model_predictions\n",
    "from support.parameters import P_TARGETED, AVG_COST, AVG_REVENUE\n",
    "\n",
    "%matplotlib inline"
   ]
  },
  {
   "cell_type": "markdown",
   "metadata": {},
   "source": [
    "## Model"
   ]
  },
  {
   "cell_type": "markdown",
   "metadata": {},
   "source": [
    "Load the best performing model"
   ]
  },
  {
   "cell_type": "code",
   "execution_count": 84,
   "metadata": {},
   "outputs": [],
   "source": [
    "tuned_model = Model.load('../models/experiment-1-model.pkl')\n",
    "model = Model(tuned_model.name, tuned_model.model, tuned_model.pipeline)"
   ]
  },
  {
   "cell_type": "markdown",
   "metadata": {},
   "source": [
    "Load the training and test sets"
   ]
  },
  {
   "cell_type": "code",
   "execution_count": 85,
   "metadata": {},
   "outputs": [],
   "source": [
    "X_train, y_train = get_data('../data/train.csv')\n",
    "X_test, y_test = get_data('../data/test.csv')"
   ]
  },
  {
   "cell_type": "code",
   "execution_count": 128,
   "metadata": {},
   "outputs": [
    {
     "name": "stdout",
     "output_type": "stream",
     "text": [
      "Number of training instances: 32,950\n",
      "Number of test instances: 8,238\n"
     ]
    }
   ],
   "source": [
    "print('Number of training instances: {:,}'.format(len(X_train)))\n",
    "print('Number of test instances: {:,}'.format(len(X_test)))"
   ]
  },
  {
   "cell_type": "markdown",
   "metadata": {},
   "source": [
    "Build the model using the training set"
   ]
  },
  {
   "cell_type": "code",
   "execution_count": 86,
   "metadata": {},
   "outputs": [
    {
     "data": {
      "text/plain": [
       "<support.model.Model at 0x1a2065e1d0>"
      ]
     },
     "execution_count": 86,
     "metadata": {},
     "output_type": "execute_result"
    }
   ],
   "source": [
    "model.train(X_train, y_train)"
   ]
  },
  {
   "cell_type": "markdown",
   "metadata": {},
   "source": [
    "## Model Performance"
   ]
  },
  {
   "cell_type": "code",
   "execution_count": 95,
   "metadata": {},
   "outputs": [
    {
     "name": "stdout",
     "output_type": "stream",
     "text": [
      "Number of targeted customers: 543\n"
     ]
    }
   ],
   "source": [
    "n_targeted = int(len(X_test) * P_TARGETED)\n",
    "print('Number of targeted customers:', n_targeted)"
   ]
  },
  {
   "cell_type": "markdown",
   "metadata": {},
   "source": [
    "Predict and score the test set"
   ]
  },
  {
   "cell_type": "code",
   "execution_count": 96,
   "metadata": {},
   "outputs": [
    {
     "data": {
      "text/plain": [
       "0.6560871090617483"
      ]
     },
     "execution_count": 96,
     "metadata": {},
     "output_type": "execute_result"
    }
   ],
   "source": [
    "scorer = get_scorer()\n",
    "model.score(X_test, y_test, scorer)"
   ]
  },
  {
   "cell_type": "markdown",
   "metadata": {},
   "source": [
    "We're off by about 1.2% from our cross validation results which is well within two standard deviations of the results."
   ]
  },
  {
   "cell_type": "markdown",
   "metadata": {},
   "source": [
    "## Financial Performance"
   ]
  },
  {
   "cell_type": "markdown",
   "metadata": {},
   "source": [
    "Evaluate financial performance on baseline"
   ]
  },
  {
   "cell_type": "code",
   "execution_count": 126,
   "metadata": {},
   "outputs": [
    {
     "name": "stdout",
     "output_type": "stream",
     "text": [
      "Baseline profit: $227,418\n",
      "Baseline conversion rate: 0.39\n",
      "Lift over random model: 3.5\n"
     ]
    }
   ],
   "source": [
    "baseline_preds = baseline_model_predictions(X_test, y_test, n_targeted)\n",
    "baseline_outcomes = baseline_preds.apply(lambda x: AVG_COST if x == 0 else AVG_COST + AVG_REVENUE)\n",
    "baseline_profit = sum(baseline_outcomes)\n",
    "baseline_rate = baseline_preds.sum() / len(baseline_preds)\n",
    "base_rate = y_test.sum() / len(y_test)\n",
    "\n",
    "print('Baseline profit: ${:,}'.format(baseline_profit))\n",
    "print('Baseline conversion rate: {:.2f}'.format(baseline_rate))\n",
    "print('Lift over random model: {:.1f}'.format(baseline_rate / base_rate))"
   ]
  },
  {
   "cell_type": "code",
   "execution_count": 98,
   "metadata": {},
   "outputs": [],
   "source": [
    "X_test_trans = model.pipeline.transform(X_test)\n",
    "preds = model.model.predict(X_test_trans)\n",
    "probs = model.model.predict_proba(X_test_trans)"
   ]
  },
  {
   "cell_type": "code",
   "execution_count": 111,
   "metadata": {},
   "outputs": [
    {
     "name": "stdout",
     "output_type": "stream",
     "text": [
      "Model profit: $296,730\n",
      "Model lift: 1.3 or $69,312\n",
      "Targeted conversion rate: 0.51\n",
      "Conversion rate lift: 4.54\n"
     ]
    }
   ],
   "source": [
    "# Create a dataframe of probabilities and actual / predicted outcomes\n",
    "probs_df = pd.DataFrame(np.hstack([probs, y_test.values.reshape(-1,1), preds.reshape(-1,1)]), columns=['p_no', 'p_yes', 'actual', 'predicted'])\n",
    "\n",
    "# Sort customers by the probability that they will convert\n",
    "model_targets = probs_df.sort_values('p_yes', ascending=False)\n",
    "\n",
    "# Take the top N\n",
    "model_targets = model_targets.head(n_targeted)\n",
    "\n",
    "# Calculate financial outcomes\n",
    "model_outcomes = model_targets.actual.apply(lambda x: AVG_COST if x == 0 else AVG_COST + AVG_REVENUE)\n",
    "model_profit = sum(model_outcomes)\n",
    "model_conv_rate = model_targets.actual.sum() / len(model_targets)\n",
    "\n",
    "print('Model profit: ${:,}'.format(model_profit))\n",
    "print('Model lift: {:.1f} or ${:,}'.format(model_profit / baseline_profit, model_profit - baseline_profit))\n",
    "print('Targeted conversion rate: {:.2f}'.format(model_conv_rate))\n",
    "print('Conversion rate lift: {:.2f}'.format(model_conv_rate / base_rate))"
   ]
  },
  {
   "cell_type": "markdown",
   "metadata": {},
   "source": [
    "Our model produces the expected lift (see 2.0-experiment-1-baseline)."
   ]
  },
  {
   "cell_type": "code",
   "execution_count": 112,
   "metadata": {},
   "outputs": [
    {
     "name": "stdout",
     "output_type": "stream",
     "text": [
      "              precision    recall  f1-score   support\n",
      "\n",
      "         0.0       0.00      0.00      0.00       265\n",
      "         1.0       0.51      1.00      0.68       278\n",
      "\n",
      "   micro avg       0.51      0.51      0.51       543\n",
      "   macro avg       0.26      0.50      0.34       543\n",
      "weighted avg       0.26      0.51      0.35       543\n",
      "\n"
     ]
    },
    {
     "name": "stderr",
     "output_type": "stream",
     "text": [
      "/anaconda3/envs/py35-ds/lib/python3.5/site-packages/sklearn/metrics/classification.py:1143: UndefinedMetricWarning: Precision and F-score are ill-defined and being set to 0.0 in labels with no predicted samples.\n",
      "  'precision', 'predicted', average, warn_for)\n"
     ]
    }
   ],
   "source": [
    "print(classification_report(model_targets.actual, model_targets.predicted))"
   ]
  },
  {
   "cell_type": "code",
   "execution_count": 148,
   "metadata": {},
   "outputs": [
    {
     "name": "stdout",
     "output_type": "stream",
     "text": [
      "Cost of false positives: $2,224\n"
     ]
    }
   ],
   "source": [
    "print('Cost of false positives: ${:,}'.format(278*8))"
   ]
  },
  {
   "cell_type": "markdown",
   "metadata": {},
   "source": [
    "Given the neglible cost of false negatives, we can afford to miss all of the true negatives in the targeted sample - customers who did not end up converting."
   ]
  },
  {
   "cell_type": "code",
   "execution_count": 147,
   "metadata": {},
   "outputs": [
    {
     "name": "stderr",
     "output_type": "stream",
     "text": [
      "/anaconda3/envs/py35-ds/lib/python3.5/site-packages/matplotlib/cbook/deprecation.py:107: MatplotlibDeprecationWarning: Passing one of 'on', 'true', 'off', 'false' as a boolean is deprecated; use an actual boolean (True/False) instead.\n",
      "  warnings.warn(message, mplDeprecation, stacklevel=1)\n"
     ]
    },
    {
     "data": {
      "image/png": "[encoded data removed]",
      "text/plain": [
       "<Figure size 432x288 with 1 Axes>"
      ]
     },
     "metadata": {},
     "output_type": "display_data"
    }
   ],
   "source": [
    "skplt.metrics.plot_cumulative_gain(y_test, probs);\n",
    "plt.axvline(.066, color='red');"
   ]
  }
 ],
 "metadata": {
  "kernelspec": {
   "display_name": "Python 3",
   "language": "python",
   "name": "python3"
  },
  "language_info": {
   "codemirror_mode": {
    "name": "ipython",
    "version": 3
   },
   "file_extension": ".py",
   "mimetype": "text/x-python",
   "name": "python",
   "nbconvert_exporter": "python",
   "pygments_lexer": "ipython3",
   "version": "3.5.5"
  }
 },
 "nbformat": 4,
 "nbformat_minor": 2
}
