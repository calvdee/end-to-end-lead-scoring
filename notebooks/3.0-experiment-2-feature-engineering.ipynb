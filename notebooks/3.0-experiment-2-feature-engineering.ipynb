{
 "cells": [
  {
   "cell_type": "markdown",
   "metadata": {},
   "source": [
    "## Overview\n",
    "\n",
    "The purpose of this notebook is to improve the performance of the baseline model by creating derived features for the Naive Bayes classifier. Since the BernoulliNB classifier can only handle categorial attributes, we'll derive categorical features from numeric ones and bin some of the informative attributes using feature selection to identify the best binning strategy.\n",
    "\n",
    "### Existing Features\n",
    "\n",
    "#### Categorical Attributes\n",
    "* Most categorical attributes are informative of the outcome of the marketing campaign except for `marital` and `day_of_week`\n",
    "* Several attributes contain missing values but there are not any a-priori reasons to treat the missing values differently from regular values.  \n",
    "* An additional indicator that encodes whether a customer was contacted prior to the current campaign may improve predictive performance as `poutcome` values of 'success' and 'failure' have higher response rates than the 'nonexistent' value\n",
    "\n",
    "#### Numeric Attributes\n",
    "* `age` outliers include people over the age of ~62\n",
    "    * Accross all ages, customers who were contacted more than ten times were not likely to respond to the campaign\n",
    "    * Younger and older customers tend to convert more than middle-aged customers\n",
    "* `pdays` uses a very large number (999) to encode missing values.  Non-missing instances are seven times more likely to convert than missing instances\n",
    "* `previous` values are finite - can be converted to a categorical variable / binned\n",
    "* Socioeconomic distributions are sparse\n",
    "* Strong correlation between\n",
    "    * `emp.var.rate` and `cons.price.idx`\n",
    "    * `emp.var.rate` and `euribor3m`\n",
    "    * `emp.var.rate` and `nr.employed`\n",
    "    * `nr.employed` and `euribor3m`\n",
    "\n",
    "\n",
    "### New Features\n",
    "* Create an indicator of whether a customer was previously contacted as part of a previous campaign (`pdays`)\n",
    "* Create an indicator of whether a customer was part of a previous campaign (`poutcome`)\n",
    "* Transform `previous` to a categorical variable\n",
    "* Apply binning to:\n",
    "    * log(`age`)\n",
    "    * `campaign`"
   ]
  },
  {
   "cell_type": "code",
   "execution_count": 89,
   "metadata": {},
   "outputs": [],
   "source": [
    "from sklearn.preprocessing import OneHotEncoder, FunctionTransformer, KBinsDiscretizer\n",
    "from sklearn.compose import ColumnTransformer\n",
    "from sklearn.pipeline import Pipeline, FeatureUnion\n",
    "from sklearn.base import clone\n",
    "from utils import code\n",
    "\n",
    "import pandas as pd\n",
    "import numpy as np\n",
    "\n",
    "%matplotlib inline"
   ]
  },
  {
   "cell_type": "code",
   "execution_count": 2,
   "metadata": {},
   "outputs": [
    {
     "data": {
      "text/html": [
       "<div>\n",
       "<style scoped>\n",
       "    .dataframe tbody tr th:only-of-type {\n",
       "        vertical-align: middle;\n",
       "    }\n",
       "\n",
       "    .dataframe tbody tr th {\n",
       "        vertical-align: top;\n",
       "    }\n",
       "\n",
       "    .dataframe thead th {\n",
       "        text-align: right;\n",
       "    }\n",
       "</style>\n",
       "<table border=\"1\" class=\"dataframe\">\n",
       "  <thead>\n",
       "    <tr style=\"text-align: right;\">\n",
       "      <th></th>\n",
       "      <th>age</th>\n",
       "      <th>job</th>\n",
       "      <th>marital</th>\n",
       "      <th>education</th>\n",
       "      <th>default</th>\n",
       "      <th>housing</th>\n",
       "      <th>loan</th>\n",
       "      <th>contact</th>\n",
       "      <th>month</th>\n",
       "      <th>day_of_week</th>\n",
       "      <th>...</th>\n",
       "      <th>campaign</th>\n",
       "      <th>pdays</th>\n",
       "      <th>previous</th>\n",
       "      <th>poutcome</th>\n",
       "      <th>emp.var.rate</th>\n",
       "      <th>cons.price.idx</th>\n",
       "      <th>cons.conf.idx</th>\n",
       "      <th>euribor3m</th>\n",
       "      <th>nr.employed</th>\n",
       "      <th>y</th>\n",
       "    </tr>\n",
       "  </thead>\n",
       "  <tbody>\n",
       "    <tr>\n",
       "      <th>0</th>\n",
       "      <td>25</td>\n",
       "      <td>blue-collar</td>\n",
       "      <td>single</td>\n",
       "      <td>high.school</td>\n",
       "      <td>no</td>\n",
       "      <td>yes</td>\n",
       "      <td>no</td>\n",
       "      <td>cellular</td>\n",
       "      <td>jul</td>\n",
       "      <td>mon</td>\n",
       "      <td>...</td>\n",
       "      <td>2</td>\n",
       "      <td>999</td>\n",
       "      <td>0</td>\n",
       "      <td>nonexistent</td>\n",
       "      <td>1.4</td>\n",
       "      <td>93.918</td>\n",
       "      <td>-42.7</td>\n",
       "      <td>4.962</td>\n",
       "      <td>5228.1</td>\n",
       "      <td>no</td>\n",
       "    </tr>\n",
       "    <tr>\n",
       "      <th>1</th>\n",
       "      <td>40</td>\n",
       "      <td>admin.</td>\n",
       "      <td>married</td>\n",
       "      <td>high.school</td>\n",
       "      <td>no</td>\n",
       "      <td>no</td>\n",
       "      <td>no</td>\n",
       "      <td>telephone</td>\n",
       "      <td>jun</td>\n",
       "      <td>thu</td>\n",
       "      <td>...</td>\n",
       "      <td>1</td>\n",
       "      <td>999</td>\n",
       "      <td>0</td>\n",
       "      <td>nonexistent</td>\n",
       "      <td>1.4</td>\n",
       "      <td>94.465</td>\n",
       "      <td>-41.8</td>\n",
       "      <td>4.958</td>\n",
       "      <td>5228.1</td>\n",
       "      <td>no</td>\n",
       "    </tr>\n",
       "    <tr>\n",
       "      <th>2</th>\n",
       "      <td>51</td>\n",
       "      <td>technician</td>\n",
       "      <td>married</td>\n",
       "      <td>university.degree</td>\n",
       "      <td>no</td>\n",
       "      <td>yes</td>\n",
       "      <td>no</td>\n",
       "      <td>cellular</td>\n",
       "      <td>aug</td>\n",
       "      <td>wed</td>\n",
       "      <td>...</td>\n",
       "      <td>5</td>\n",
       "      <td>999</td>\n",
       "      <td>0</td>\n",
       "      <td>nonexistent</td>\n",
       "      <td>1.4</td>\n",
       "      <td>93.444</td>\n",
       "      <td>-36.1</td>\n",
       "      <td>4.964</td>\n",
       "      <td>5228.1</td>\n",
       "      <td>yes</td>\n",
       "    </tr>\n",
       "    <tr>\n",
       "      <th>3</th>\n",
       "      <td>37</td>\n",
       "      <td>blue-collar</td>\n",
       "      <td>married</td>\n",
       "      <td>high.school</td>\n",
       "      <td>unknown</td>\n",
       "      <td>yes</td>\n",
       "      <td>no</td>\n",
       "      <td>cellular</td>\n",
       "      <td>jul</td>\n",
       "      <td>tue</td>\n",
       "      <td>...</td>\n",
       "      <td>1</td>\n",
       "      <td>999</td>\n",
       "      <td>0</td>\n",
       "      <td>nonexistent</td>\n",
       "      <td>1.4</td>\n",
       "      <td>93.918</td>\n",
       "      <td>-42.7</td>\n",
       "      <td>4.961</td>\n",
       "      <td>5228.1</td>\n",
       "      <td>no</td>\n",
       "    </tr>\n",
       "    <tr>\n",
       "      <th>4</th>\n",
       "      <td>54</td>\n",
       "      <td>housemaid</td>\n",
       "      <td>married</td>\n",
       "      <td>university.degree</td>\n",
       "      <td>unknown</td>\n",
       "      <td>yes</td>\n",
       "      <td>no</td>\n",
       "      <td>cellular</td>\n",
       "      <td>aug</td>\n",
       "      <td>thu</td>\n",
       "      <td>...</td>\n",
       "      <td>1</td>\n",
       "      <td>999</td>\n",
       "      <td>0</td>\n",
       "      <td>nonexistent</td>\n",
       "      <td>1.4</td>\n",
       "      <td>93.444</td>\n",
       "      <td>-36.1</td>\n",
       "      <td>4.963</td>\n",
       "      <td>5228.1</td>\n",
       "      <td>no</td>\n",
       "    </tr>\n",
       "  </tbody>\n",
       "</table>\n",
       "<p>5 rows × 21 columns</p>\n",
       "</div>"
      ],
      "text/plain": [
       "   age          job  marital          education  default housing loan  \\\n",
       "0   25  blue-collar   single        high.school       no     yes   no   \n",
       "1   40       admin.  married        high.school       no      no   no   \n",
       "2   51   technician  married  university.degree       no     yes   no   \n",
       "3   37  blue-collar  married        high.school  unknown     yes   no   \n",
       "4   54    housemaid  married  university.degree  unknown     yes   no   \n",
       "\n",
       "     contact month day_of_week ...   campaign  pdays  previous     poutcome  \\\n",
       "0   cellular   jul         mon ...          2    999         0  nonexistent   \n",
       "1  telephone   jun         thu ...          1    999         0  nonexistent   \n",
       "2   cellular   aug         wed ...          5    999         0  nonexistent   \n",
       "3   cellular   jul         tue ...          1    999         0  nonexistent   \n",
       "4   cellular   aug         thu ...          1    999         0  nonexistent   \n",
       "\n",
       "  emp.var.rate  cons.price.idx  cons.conf.idx  euribor3m  nr.employed    y  \n",
       "0          1.4          93.918          -42.7      4.962       5228.1   no  \n",
       "1          1.4          94.465          -41.8      4.958       5228.1   no  \n",
       "2          1.4          93.444          -36.1      4.964       5228.1  yes  \n",
       "3          1.4          93.918          -42.7      4.961       5228.1   no  \n",
       "4          1.4          93.444          -36.1      4.963       5228.1   no  \n",
       "\n",
       "[5 rows x 21 columns]"
      ]
     },
     "execution_count": 2,
     "metadata": {},
     "output_type": "execute_result"
    }
   ],
   "source": [
    "bank = pd.read_csv('../data/train.csv')\n",
    "bank.head()"
   ]
  },
  {
   "cell_type": "code",
   "execution_count": 3,
   "metadata": {},
   "outputs": [],
   "source": [
    "X = bank.drop('y', axis=1)\n",
    "y = bank.y"
   ]
  },
  {
   "cell_type": "markdown",
   "metadata": {},
   "source": [
    "## Computations"
   ]
  },
  {
   "cell_type": "markdown",
   "metadata": {},
   "source": [
    "### Was the customer contacted about the last campaign?"
   ]
  },
  {
   "cell_type": "code",
   "execution_count": 7,
   "metadata": {},
   "outputs": [],
   "source": [
    "def ft_pcontacted_last_campaign(X):\n",
    "  pcontacted = ~(X == 999)\n",
    "  return pcontacted.values.reshape(-1,1)"
   ]
  },
  {
   "cell_type": "code",
   "execution_count": 8,
   "metadata": {},
   "outputs": [
    {
     "data": {
      "text/plain": [
       "True"
      ]
     },
     "execution_count": 8,
     "metadata": {},
     "output_type": "execute_result"
    }
   ],
   "source": [
    "add_pcontacted_last_campaign = FunctionTransformer(ft_pcontacted_last_campaign, validate=False)\n",
    "add_pcontacted_last_campaign_ct = ColumnTransformer([('add_pcontacted', add_pcontacted_last_campaign, 'pdays')])\n",
    "\n",
    "pcontacted_last_campaign = add_pcontacted_last_campaign_ct.fit_transform(X)\n",
    "\n",
    "# Make sure the resulting values are correct\n",
    "all(X.loc[np.where(pcontacted_last_campaign.ravel() == True)[0], ['pdays']] == '999')"
   ]
  },
  {
   "cell_type": "markdown",
   "metadata": {},
   "source": [
    "### Was the customer part of the last campaign?"
   ]
  },
  {
   "cell_type": "code",
   "execution_count": 9,
   "metadata": {},
   "outputs": [],
   "source": [
    "def ft_pcampaign(X):\n",
    "  pcampaign = ~(X == 'nonexistent')\n",
    "  return pcampaign.values.reshape(-1,1)"
   ]
  },
  {
   "cell_type": "code",
   "execution_count": 10,
   "metadata": {},
   "outputs": [
    {
     "data": {
      "text/plain": [
       "True"
      ]
     },
     "execution_count": 10,
     "metadata": {},
     "output_type": "execute_result"
    }
   ],
   "source": [
    "add_pcampaign = FunctionTransformer(ft_pcampaign, validate=False)\n",
    "add_pcampaign_ct = ColumnTransformer([('add_poutcome', add_pcampaign, 'poutcome')])\n",
    "\n",
    "pcampaign = add_pcampaign_ct.fit_transform(X)\n",
    "\n",
    "# Make sure the resulting values are correct\n",
    "all(X.loc[np.where(pcampaign.ravel() == True)[0], ['poutcome']] != 'nonexistent')"
   ]
  },
  {
   "cell_type": "markdown",
   "metadata": {},
   "source": [
    "### Was the customer contacted more than ten times?"
   ]
  },
  {
   "cell_type": "code",
   "execution_count": 11,
   "metadata": {},
   "outputs": [],
   "source": [
    "def ft_campaign_gte10(X):\n",
    "  campaign_gte10 = X >= 10\n",
    "  return campaign_gte10.values.reshape(-1,1)"
   ]
  },
  {
   "cell_type": "code",
   "execution_count": 12,
   "metadata": {},
   "outputs": [
    {
     "data": {
      "text/plain": [
       "True"
      ]
     },
     "execution_count": 12,
     "metadata": {},
     "output_type": "execute_result"
    }
   ],
   "source": [
    "add_campaign_gte10 = FunctionTransformer(ft_campaign_gte10, validate=False)\n",
    "add_campaign_gte10_ct = ColumnTransformer([('campaign_gte10', add_campaign_gte10, 'campaign')])\n",
    "\n",
    "campaign_gte10 = add_campaign_gte10_ct.fit_transform(X)\n",
    "\n",
    "# Make sure the resulting values are correct\n",
    "all(X.loc[np.where(campaign_gte10.ravel() == True)[0], ['campaign']] >= 10)"
   ]
  },
  {
   "cell_type": "markdown",
   "metadata": {},
   "source": [
    "### Transform previous to categorical"
   ]
  },
  {
   "cell_type": "code",
   "execution_count": 13,
   "metadata": {},
   "outputs": [],
   "source": [
    "def ft_previous(X):\n",
    "  previous = X.astype(str)\n",
    "  return previous.values.reshape(-1,1)"
   ]
  },
  {
   "cell_type": "code",
   "execution_count": 14,
   "metadata": {},
   "outputs": [
    {
     "data": {
      "text/plain": [
       "True"
      ]
     },
     "execution_count": 14,
     "metadata": {},
     "output_type": "execute_result"
    }
   ],
   "source": [
    "add_previous = FunctionTransformer(ft_previous, validate=False)\n",
    "add_previous_ct = ColumnTransformer([('add_previous', add_previous, 'previous')])\n",
    "\n",
    "previous = add_previous_ct.fit_transform(X)\n",
    "\n",
    "# Make sure the resulting values are correct\n",
    "all(previous.astype(int).ravel() == X.previous)"
   ]
  },
  {
   "cell_type": "markdown",
   "metadata": {},
   "source": [
    "### Apply binning as a hyperparameter"
   ]
  },
  {
   "cell_type": "markdown",
   "metadata": {},
   "source": [
    "Apply a log transform to `age` to transform the distribution"
   ]
  },
  {
   "cell_type": "code",
   "execution_count": 30,
   "metadata": {},
   "outputs": [
    {
     "data": {
      "image/png": "[encoded data removed]",
      "text/plain": [
       "<Figure size 720x288 with 2 Axes>"
      ]
     },
     "metadata": {},
     "output_type": "display_data"
    }
   ],
   "source": [
    "np.log(X[['age', 'campaign']]).hist(figsize=(10,4));"
   ]
  },
  {
   "cell_type": "code",
   "execution_count": 69,
   "metadata": {},
   "outputs": [
    {
     "data": {
      "text/plain": [
       "<32950x10 sparse matrix of type '<class 'numpy.float64'>'\n",
       "\twith 65900 stored elements in Compressed Sparse Row format>"
      ]
     },
     "execution_count": 69,
     "metadata": {},
     "output_type": "execute_result"
    }
   ],
   "source": [
    "binning_pipeline = Pipeline([\n",
    "  ('log', FunctionTransformer(np.log, validate=True)),\n",
    "  ('kbins', KBinsDiscretizer())\n",
    "])\n",
    "\n",
    "age_campaign_ct = ColumnTransformer([\n",
    "  ('age_pipeline', clone(binning_pipeline), ['age']),\n",
    "  ('campaign_pipeline', clone(binning_pipeline), ['campaign'])\n",
    "])\n",
    "age_campaign_ct.fit_transform(X)"
   ]
  },
  {
   "cell_type": "markdown",
   "metadata": {},
   "source": [
    "Apply a log transform to `campaign` to transform the distribution"
   ]
  },
  {
   "cell_type": "markdown",
   "metadata": {},
   "source": [
    "## Pipeline"
   ]
  },
  {
   "cell_type": "markdown",
   "metadata": {},
   "source": [
    "* Apply column transformers (categorical)\n",
    "* Apply column transformers (numeric)"
   ]
  },
  {
   "cell_type": "code",
   "execution_count": 70,
   "metadata": {},
   "outputs": [
    {
     "data": {
      "text/plain": [
       "Pipeline(memory=None,\n",
       "     steps=[('cat_ct', ColumnTransformer(n_jobs=None, remainder='drop', sparse_threshold=0.3,\n",
       "         transformer_weights=None,\n",
       "         transformers=[('pcontacted_last_campaign', FunctionTransformer(accept_sparse=False, check_inverse=True,\n",
       "          func=<function ft_pcontacted_last_campaign at 0x1a1ad...\n",
       "       dtype=<class 'numpy.float64'>, handle_unknown='ignore',\n",
       "       n_values=None, sparse=True))])"
      ]
     },
     "execution_count": 70,
     "metadata": {},
     "output_type": "execute_result"
    }
   ],
   "source": [
    "# Create the transformers for categorical features\n",
    "new_cat_features = [\n",
    "  ('pcontacted_last_campaign', add_pcontacted_last_campaign, 'pdays'),\n",
    "  ('poutcome', add_pcampaign, 'poutcome'),\n",
    "  ('previous', add_previous, 'previous'),\n",
    "  ('campaign_gte10', add_campaign_gte10, 'campaign')\n",
    "]\n",
    "cat_ct = ColumnTransformer(new_cat_features)\n",
    "\n",
    "# Create the pipeline to transform categorical features\n",
    "cat_pipeline = Pipeline([\n",
    "  ('cat_ct', cat_ct),\n",
    "  ('ohe', OneHotEncoder(handle_unknown='ignore'))\n",
    "])\n",
    "cat_pipeline.fit(X)"
   ]
  },
  {
   "cell_type": "code",
   "execution_count": 71,
   "metadata": {},
   "outputs": [
    {
     "data": {
      "text/plain": [
       "(32950, 4)"
      ]
     },
     "execution_count": 71,
     "metadata": {},
     "output_type": "execute_result"
    }
   ],
   "source": [
    "cat_ct.fit_transform(X).shape"
   ]
  },
  {
   "cell_type": "code",
   "execution_count": 72,
   "metadata": {},
   "outputs": [
    {
     "data": {
      "text/plain": [
       "(32950, 24)"
      ]
     },
     "execution_count": 72,
     "metadata": {},
     "output_type": "execute_result"
    }
   ],
   "source": [
    "# Create the feature union of categorical and numeric attributes\n",
    "ft_union = FeatureUnion([\n",
    "  ('cat_pipeline', cat_pipeline),\n",
    "  ('num_pipeline', age_campaign_ct)\n",
    "])\n",
    "\n",
    "ft_union.fit(X)\n",
    "features = ft_union.transform(X)\n",
    "features.shape"
   ]
  },
  {
   "cell_type": "markdown",
   "metadata": {},
   "source": [
    "Create categorical feature names post-transformation"
   ]
  },
  {
   "cell_type": "code",
   "execution_count": 75,
   "metadata": {},
   "outputs": [
    {
     "data": {
      "text/plain": [
       "['pcontacted_last_campaign_False',\n",
       " 'pcontacted_last_campaign_True',\n",
       " 'previous_False',\n",
       " 'previous_True',\n",
       " 'poutcome_0',\n",
       " 'poutcome_1',\n",
       " 'poutcome_2',\n",
       " 'poutcome_3',\n",
       " 'poutcome_4',\n",
       " 'poutcome_5',\n",
       " 'poutcome_6',\n",
       " 'poutcome_7',\n",
       " 'campaign_gte10_False',\n",
       " 'campaign_gte10_True']"
      ]
     },
     "execution_count": 75,
     "metadata": {},
     "output_type": "execute_result"
    }
   ],
   "source": [
    "# Add column names\n",
    "feature_names = [\n",
    "  # Don't incclude the last entry in the `named_transformers_` list since\n",
    "  # it's the `remainder` parameter for the ColumnTransformer\n",
    "  ['%s_%s' % (name, value) for value in values] for \n",
    "    name, values in list(zip(list(cat_ct.named_transformers_.keys())[1:], cat_pipeline.named_steps['ohe'].categories_))]\n",
    "\n",
    "cat_feature_names = [name for names in feature_names for name in names]\n",
    "cat_feature_names"
   ]
  },
  {
   "cell_type": "markdown",
   "metadata": {},
   "source": [
    "Create numeric feature names post-transformation"
   ]
  },
  {
   "cell_type": "code",
   "execution_count": 87,
   "metadata": {},
   "outputs": [],
   "source": [
    "# TODO\n",
    "\n",
    "# numeric_feature_names = age_campaign_ct.transformers_[0][2]\n",
    "# p = age_campaign_ct.named_transformers_['age_pipeline']\n",
    "# p2 = p.named_steps['kbins']\n",
    "# p2.n_bins_"
   ]
  },
  {
   "cell_type": "code",
   "execution_count": 85,
   "metadata": {},
   "outputs": [],
   "source": [
    "# features_df = pd.DataFrame(features.todense(), columns=cat_feature_names + numeric_feature_names)\n",
    "# features_df.head()"
   ]
  },
  {
   "cell_type": "markdown",
   "metadata": {},
   "source": [
    "Try the file we created as code"
   ]
  },
  {
   "cell_type": "code",
   "execution_count": 90,
   "metadata": {},
   "outputs": [],
   "source": [
    "%load_ext autoreload\n",
    "%autoreload 2\n",
    "\n",
    "from support.experiments import experiment_2"
   ]
  },
  {
   "cell_type": "code",
   "execution_count": 94,
   "metadata": {},
   "outputs": [],
   "source": [
    "pipeline = experiment_2.get_pipeline()\n",
    "assert features.shape == pipeline.fit_transform(X).shape"
   ]
  }
 ],
 "metadata": {
  "kernelspec": {
   "display_name": "Python 3",
   "language": "python",
   "name": "python3"
  },
  "language_info": {
   "codemirror_mode": {
    "name": "ipython",
    "version": 3
   },
   "file_extension": ".py",
   "mimetype": "text/x-python",
   "name": "python",
   "nbconvert_exporter": "python",
   "pygments_lexer": "ipython3",
   "version": "3.5.5"
  }
 },
 "nbformat": 4,
 "nbformat_minor": 2
}
